{
  "nbformat": 4,
  "nbformat_minor": 0,
  "metadata": {
    "colab": {
      "provenance": [],
      "authorship_tag": "ABX9TyORVEvnnxYhfHdkWl1uDjxC",
      "include_colab_link": true
    },
    "kernelspec": {
      "name": "python3",
      "display_name": "Python 3"
    },
    "language_info": {
      "name": "python"
    }
  },
  "cells": [
    {
      "cell_type": "markdown",
      "metadata": {
        "id": "view-in-github",
        "colab_type": "text"
      },
      "source": [
        "<a href=\"https://colab.research.google.com/github/Aloxxa/r_public/blob/main/22_2.ipynb\" target=\"_parent\"><img src=\"https://colab.research.google.com/assets/colab-badge.svg\" alt=\"Open In Colab\"/></a>"
      ]
    },
    {
      "cell_type": "code",
      "source": [
        "import numpy as np\n",
        "\n",
        "# Параметры облигации\n",
        "t = 4\n",
        "c = 0.08\n",
        "F = 100\n",
        "yields = [0.05, 0.06, 0.08, 0.09]\n",
        "\n",
        "# Расчет текущей цены облигации\n",
        "price = sum([c * F / (1 + yields[i])**(i + 1) for i in range(t)]) + F / (1 + yields[-1])**t\n",
        "\n",
        "# Расчет дюрации Фишера-Вейля\n",
        "durations = [(i + 1) * (c * F / (1 + yields[i])**(i + 1)) for i in range(t)]\n",
        "duration_fisher_weil = sum(durations) / price\n",
        "\n",
        "# Сдвиг кривой ставок на 5 б.п.\n",
        "shift = 0.0005\n",
        "yields_shifted = [y - shift for y in yields]\n",
        "\n",
        "# Новая цена облигации при сдвиге ставок\n",
        "new_price = sum([c * F / (1 + yields_shifted[i])**(i + 1) for i in range(t)]) + F / (1 + yields_shifted[-1])**t\n",
        "\n",
        "# Точное изменение цены\n",
        "exact_price_change = new_price - price\n",
        "\n",
        "# Приближенное изменение цены по дюрации Фишера-Вейля\n",
        "approx_price_change = -duration_fisher_weil * price * shift\n",
        "\n",
        "print(f\"Точное изменение цены: {exact_price_change:.4f}\")\n",
        "print(f\"Приближенное изменение цены по дюрации Фишера-Вейля: {approx_price_change:.4f}\")"
      ],
      "metadata": {
        "colab": {
          "base_uri": "https://localhost:8080/",
          "height": 0
        },
        "id": "sLaa2_Y8Awce",
        "outputId": "3bbb3b98-1818-4c3b-a0d1-2b1129c50580"
      },
      "execution_count": 2,
      "outputs": [
        {
          "output_type": "stream",
          "name": "stdout",
          "text": [
            "Точное изменение цены: 0.1597\n",
            "Приближенное изменение цены по дюрации Фишера-Вейля: -0.0318\n"
          ]
        }
      ]
    }
  ]
}