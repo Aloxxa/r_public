{
  "nbformat": 4,
  "nbformat_minor": 0,
  "metadata": {
    "colab": {
      "provenance": [],
      "authorship_tag": "ABX9TyOfwHsKN0VUeeqDSAMHxnWs",
      "include_colab_link": true
    },
    "kernelspec": {
      "name": "python3",
      "display_name": "Python 3"
    },
    "language_info": {
      "name": "python"
    }
  },
  "cells": [
    {
      "cell_type": "markdown",
      "metadata": {
        "id": "view-in-github",
        "colab_type": "text"
      },
      "source": [
        "<a href=\"https://colab.research.google.com/github/Aloxxa/r_public/blob/main/22_7.ipynb\" target=\"_parent\"><img src=\"https://colab.research.google.com/assets/colab-badge.svg\" alt=\"Open In Colab\"/></a>"
      ]
    },
    {
      "cell_type": "code",
      "execution_count": null,
      "metadata": {
        "id": "_OsarYG4P8kv"
      },
      "outputs": [],
      "source": [
        "import math"
      ]
    },
    {
      "cell_type": "code",
      "source": [
        "def calculate_spot_rates(prices, nominal, coupon_rate):\n",
        "    spot_rates = []\n",
        "    for i in range(len(prices)):\n",
        "        if i == 0:\n",
        "            s1 = 1 - prices[0] / (nominal + nominal * coupon_rate)\n",
        "            spot_rates.append(s1)\n",
        "        else:\n",
        "            numerator = prices[i]\n",
        "            for j in range(i):\n",
        "                numerator -= nominal * coupon_rate / (1 + spot_rates[j])**(j + 1)\n",
        "            si = 1 - (numerator / (nominal + nominal * coupon_rate))**(1 / (i + 1))\n",
        "            spot_rates.append(si)\n",
        "    return spot_rates"
      ],
      "metadata": {
        "id": "0-EL3CpsSFL2"
      },
      "execution_count": null,
      "outputs": []
    },
    {
      "cell_type": "code",
      "source": [
        "def calculate_forward_rate(s4, s2):\n",
        "    f = ((1 + s4)**4 / (1 + s2)**2)**(1 / 2) - 1\n",
        "    return f"
      ],
      "metadata": {
        "id": "blW8tkdJSPGK"
      },
      "execution_count": null,
      "outputs": []
    },
    {
      "cell_type": "code",
      "source": [
        "prices = [900, 1050, 1150, 1200]\n",
        "nominal = 1000\n",
        "coupon_rate = 0.18"
      ],
      "metadata": {
        "id": "wOvENHpoSHSE"
      },
      "execution_count": null,
      "outputs": []
    },
    {
      "cell_type": "code",
      "source": [
        "spot_rates = calculate_spot_rates(prices, nominal, coupon_rate)\n",
        "s4 = spot_rates[-1]\n",
        "s2 = spot_rates[1]"
      ],
      "metadata": {
        "id": "Ol_xVA1SSSq_"
      },
      "execution_count": null,
      "outputs": []
    },
    {
      "cell_type": "code",
      "source": [
        "forward_rate = calculate_forward_rate(s4, s2)"
      ],
      "metadata": {
        "id": "yr-s7mVGSS72"
      },
      "execution_count": null,
      "outputs": []
    },
    {
      "cell_type": "code",
      "source": [
        "print(f\"Спотовые ставки: {spot_rates}\")\n",
        "print(f\"Четырехлетняя спотовая ставка s4: {s4:.4%}\")\n",
        "print(f\"Форвардная ставка f: {forward_rate:.4%}\")"
      ],
      "metadata": {
        "colab": {
          "base_uri": "https://localhost:8080/"
        },
        "id": "-YpStG9ASZaE",
        "outputId": "b757bacc-d8f5-49dc-a48e-dbe369b5de31"
      },
      "execution_count": null,
      "outputs": [
        {
          "output_type": "stream",
          "name": "stdout",
          "text": [
            "Спотовые ставки: [0.23728813559322037, 0.12447567866923337, 0.09932196457888987, 0.09927994056193346]\n",
            "Четырехлетняя спотовая ставка s4: 9.9280%\n",
            "Форвардная ставка f: 7.4649%\n"
          ]
        }
      ]
    },
    {
      "cell_type": "code",
      "source": [],
      "metadata": {
        "id": "ioBoAz4aSZuq"
      },
      "execution_count": null,
      "outputs": []
    }
  ]
}